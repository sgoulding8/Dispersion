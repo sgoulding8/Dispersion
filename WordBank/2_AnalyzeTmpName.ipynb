{
 "cells": [
  {
   "cell_type": "code",
   "execution_count": 1,
   "id": "c478f9d2-c36b-44e1-883b-ce4fd4a6cb33",
   "metadata": {},
   "outputs": [],
   "source": [
    "import pandas as pd \n",
    "import matplotlib.pyplot as plt \n",
    "import numpy as np \n",
    "import collections"
   ]
  },
  {
   "cell_type": "code",
   "execution_count": 2,
   "id": "3a7ab7f2-c1a7-420b-8a93-e075d9420b7e",
   "metadata": {},
   "outputs": [],
   "source": [
    "# Find the first month where over half the children produced the word\n",
    "\n",
    "def get_halfmonth_criterion(df, min_proportion = 0.5): \n",
    "    months = df.columns.values\n",
    "    d = collections.defaultdict(list)\n",
    "    for word in df.index.values: \n",
    "        m = df.loc[word]\n",
    "        v = np.where(m.values >= min_proportion)[0]\n",
    "        if len(v) == 0: \n",
    "            min_month = np.nan \n",
    "        else: \n",
    "            i_month = np.min(v)\n",
    "            min_month = int(months[i_month])\n",
    "        d['word'].append(word)\n",
    "        d['month_halfcriterion'].append(min_month)\n",
    "\n",
    "    df_criterion = pd.DataFrame(d).set_index('word')\n",
    "    return df_criterion"
   ]
  },
  {
   "cell_type": "code",
   "execution_count": 11,
   "id": "257e7160-9a62-4622-9929-8f43a97e3cd3",
   "metadata": {},
   "outputs": [],
   "source": [
    "df_production = pd.read_csv('df_production.csv', index_col = 'word')\n",
    "df_criterion_production = get_halfmonth_criterion(df_production)\n",
    "with pd.ExcelWriter('production_AoA.xlsx') as writer:\n",
    "        df_criterion_production.to_excel(writer)"
   ]
  },
  {
   "cell_type": "code",
   "execution_count": 10,
   "id": "cbacecc9-6eae-4692-b089-db482e2515a2",
   "metadata": {},
   "outputs": [],
   "source": [
    "df_comprehension = pd.read_csv('df_comprehension.csv', index_col = 'word')\n",
    "df_comprehension_production = get_halfmonth_criterion(df_comprehension)\n",
    "with pd.ExcelWriter('comprehension_AoA.xlsx') as writer:\n",
    "        df_comprehension_production.to_excel(writer)"
   ]
  },
  {
   "cell_type": "code",
   "execution_count": null,
   "id": "bc330bed-ac2d-45e3-9256-82aa7687c40c",
   "metadata": {},
   "outputs": [],
   "source": []
  }
 ],
 "metadata": {
  "kernelspec": {
   "display_name": "Python 3 (ipykernel)",
   "language": "python",
   "name": "python3"
  },
  "language_info": {
   "codemirror_mode": {
    "name": "ipython",
    "version": 3
   },
   "file_extension": ".py",
   "mimetype": "text/x-python",
   "name": "python",
   "nbconvert_exporter": "python",
   "pygments_lexer": "ipython3",
   "version": "3.7.13"
  }
 },
 "nbformat": 4,
 "nbformat_minor": 5
}
