{
 "cells": [
  {
   "cell_type": "code",
   "execution_count": 1,
   "id": "6b80c573-160b-4e8b-ac71-dbf9a68feb70",
   "metadata": {},
   "outputs": [],
   "source": [
    "import pandas as pd\n",
    "import collections\n",
    "import numpy as np\n",
    "import matplotlib.pyplot as plt\n",
    "import xarray as xr"
   ]
  },
  {
   "cell_type": "code",
   "execution_count": 2,
   "id": "326bb056-7f88-4efc-8b62-45b31a9758c9",
   "metadata": {},
   "outputs": [],
   "source": [
    "# Read in the data from the Excel file\n",
    "excel_file = pd.ExcelFile('dispersionLara_splithalf_freqprop.xlsx')\n",
    "columns_to_use = ['words', 'splithalf', 'totalfreq', 'freqproportion','zscore']\n",
    "df1 = pd.read_excel(excel_file, sheet_name='Lara', usecols=columns_to_use)\n",
    "df2 = pd.read_excel(excel_file, sheet_name='Sod', usecols=columns_to_use)\n",
    "df3 = pd.read_excel(excel_file, sheet_name='Sam', usecols=columns_to_use)\n",
    "\n",
    "# Convert each dataframe into an xarray dataset\n",
    "ds_Lara = xr.Dataset.from_dataframe(df1)\n",
    "ds_Sod = xr.Dataset.from_dataframe(df2)\n",
    "ds_Sam = xr.Dataset.from_dataframe(df3)"
   ]
  },
  {
   "cell_type": "code",
   "execution_count": 3,
   "id": "0671c2ad-a357-405d-ac92-b61e74f79c07",
   "metadata": {},
   "outputs": [
    {
     "data": {
      "image/png": "[encoded data removed]",
      "text/plain": [
       "<Figure size 640x480 with 1 Axes>"
      ]
     },
     "metadata": {},
     "output_type": "display_data"
    }
   ],
   "source": [
    "# Take the splithalf DPNorm values for each corpus\n",
    "splithalf_Lara = ds_Lara['splithalf'].values\n",
    "splithalf_Sod = ds_Sod['splithalf'].values\n",
    "splithalf_Sam = ds_Sam['splithalf'].values\n",
    "\n",
    "# Create a histogram\n",
    "plt.hist(splithalf_Lara, bins=10)  # You can adjust the number of bins as needed\n",
    "\n",
    "# Add labels and title\n",
    "plt.xlabel('Value')\n",
    "plt.ylabel('Frequency')\n",
    "plt.title('Histogram of Lara splithalf')\n",
    "\n",
    "# Show the plot\n",
    "plt.show()"
   ]
  },
  {
   "cell_type": "code",
   "execution_count": 3,
   "id": "8c5089b1-4729-4473-a337-b86e78198164",
   "metadata": {},
   "outputs": [],
   "source": [
    "# Filter dataframe based on zscore within the range [-0.25, 0.25]\n",
    "ds_Lara_filtered = ds_Lara.where((ds_Lara['zscore'] >= -0.25) & (ds_Lara['zscore'] <= 0.25), drop=True)\n",
    "ds_Sod_filtered = ds_Sod.where((ds_Sod['zscore'] >= -0.25) & (ds_Sod['zscore'] <= 0.25), drop=True)\n",
    "ds_Sam_filtered = ds_Sam.where((ds_Sam['zscore'] >= -0.25) & (ds_Sam['zscore'] <= 0.25), drop=True)\n",
    "\n",
    "ds_Lara_filtered = ds_Lara_filtered.sortby('words')\n",
    "ds_Lara_filtered= ds_Lara_filtered.reset_index('index',drop=True)\n",
    "ds_Sod_filtered = ds_Sod_filtered.sortby('words')\n",
    "ds_Sod_filtered= ds_Sod_filtered.reset_index('index',drop=True)\n",
    "ds_Sam_filtered = ds_Sam_filtered.sortby('words')\n",
    "ds_Sam_filtered= ds_Sam_filtered.reset_index('index',drop=True)"
   ]
  },
  {
   "cell_type": "code",
   "execution_count": 4,
   "id": "c340ed59-c544-462c-9c87-5b82a366061d",
   "metadata": {},
   "outputs": [],
   "source": [
    "# Sort dataframe by splithalf DPNorm value\n",
    "ds_Sod_sorted = ds_Sod_filtered.sortby('splithalf')\n",
    "ds_Lara_sorted = ds_Lara_filtered.sortby('splithalf')\n",
    "ds_Sam_sorted = ds_Sam_filtered.sortby('splithalf')\n",
    "\n",
    "df_Sod = ds_Sod_sorted.to_dataframe()\n",
    "df_Lara = ds_Lara_sorted.to_dataframe()\n",
    "df_Sam = ds_Sam_sorted.to_dataframe()"
   ]
  },
  {
   "cell_type": "code",
   "execution_count": 6,
   "id": "ecf2cfb9-45aa-4a51-a05e-39740429400a",
   "metadata": {},
   "outputs": [
    {
     "data": {
      "text/plain": [
       "0.03570509065464811"
      ]
     },
     "execution_count": 6,
     "metadata": {},
     "output_type": "execute_result"
    }
   ],
   "source": [
    "# Get the median splithalf value\n",
    "#df_Sod['splithalf'].median()\n",
    "#df_Lara['splithalf'].median()\n",
    "#df_Sam['splithalf'].median()"
   ]
  },
  {
   "cell_type": "code",
   "execution_count": 1,
   "id": "f2855c5e-75d7-4eb8-b301-3573bdd8007d",
   "metadata": {},
   "outputs": [
    {
     "ename": "NameError",
     "evalue": "name 'df_Sam' is not defined",
     "output_type": "error",
     "traceback": [
      "\u001b[0;31m---------------------------------------------------------------------------\u001b[0m",
      "\u001b[0;31mNameError\u001b[0m                                 Traceback (most recent call last)",
      "Cell \u001b[0;32mIn [1], line 4\u001b[0m\n\u001b[1;32m      1\u001b[0m \u001b[38;5;66;03m#df_Sod[83:86]\u001b[39;00m\n\u001b[1;32m      2\u001b[0m \u001b[38;5;66;03m#df_Lara[973:976]\u001b[39;00m\n\u001b[1;32m      3\u001b[0m \u001b[38;5;66;03m#df_Sam[696:699]\u001b[39;00m\n\u001b[0;32m----> 4\u001b[0m \u001b[43mdf_Sam\u001b[49m\n",
      "\u001b[0;31mNameError\u001b[0m: name 'df_Sam' is not defined"
     ]
    }
   ],
   "source": [
    "#Find words around the median splithalf value found above\n",
    "#df_Sod[83:86]\n",
    "#df_Lara[973:976]\n",
    "#df_Sam[696:699]"
   ]
  },
  {
   "cell_type": "code",
   "execution_count": 15,
   "id": "efb84d09-85c0-412c-8f01-b04b8b3cd891",
   "metadata": {},
   "outputs": [],
   "source": [
    "# Check which words in Lara corpus are also present in Soderstrom corpus\n",
    "common_words = ds_Lara_filtered['words'].isin(ds_Sod_filtered['words'])\n",
    "\n",
    "# Extract frequency, split-half, and frequency proportion values from Soderstrom and Lara for common words\n",
    "frequency_Sod = ds_Sod_filtered['totalfreq'].where(ds_Sod_filtered['words'].isin(ds_Lara_filtered['words']), drop=True)\n",
    "splithalf_Sod = ds_Sod_filtered['splithalf'].where(ds_Sod_filtered['words'].isin(ds_Lara_filtered['words']), drop=True)\n",
    "frequency_proportion_Sod = ds_Sod_filtered['freqproportion'].where(ds_Sod_filtered['words'].isin(ds_Lara_filtered['words']), drop=True)\n",
    "\n",
    "# Create a new xarray dataset containing data for common words from both datasets\n",
    "ds_common = xr.Dataset({'words': ds_Lara_filtered['words'].where(common_words, drop=True),\n",
    "                        'splithalf_Lara': ds_Lara_filtered['splithalf'].where(common_words, drop=True),\n",
    "                        'frequency_Lara': ds_Lara_filtered['totalfreq'].where(common_words, drop=True),\n",
    "                        'splithalf_Sod': splithalf_Sod,\n",
    "                        'frequency_Sod': frequency_Sod,\n",
    "                        'frequency_proportion_Lara': ds_Lara_filtered['freqproportion'].where(common_words, drop=True),\n",
    "                        'frequency_proportion_Sod': frequency_proportion_Sod})"
   ]
  },
  {
   "cell_type": "code",
   "execution_count": 17,
   "id": "17339971-6c16-4470-ac5f-2206ddc7d23b",
   "metadata": {},
   "outputs": [],
   "source": [
    "# Find the words that are present in both common_words dataset and Sam dataset\n",
    "common_words_3 = ds_common['words'].isin(ds_Sam_filtered['words'])\n",
    "\n",
    "frequency_Sam = ds_Sam_filtered['totalfreq'].where(ds_Sam_filtered['words'].isin(ds_common['words']), drop=True)\n",
    "splithalf_Sam = ds_Sam_filtered['splithalf'].where(ds_Sam_filtered['words'].isin(ds_common['words']), drop=True)\n",
    "frequency_proportion_Sam = ds_Sam_filtered['freqproportion'].where(ds_Sam_filtered['words'].isin(ds_common['words']), drop=True)\n",
    "\n",
    "# Create a new xarray dataset containing data for common words from all three datasets\n",
    "ds_common_3 = xr.Dataset({'words': ds_common['words'].where(common_words_3, drop=True),\n",
    "                            'splithalf_Lara': ds_common['splithalf_Lara'].where(common_words_3, drop=True),\n",
    "                            'frequency_Lara': ds_common['frequency_Lara'].where(common_words_3, drop=True),\n",
    "                            'splithalf_Sod': ds_common['splithalf_Sod'].where(common_words_3, drop=True),\n",
    "                            'frequency_Sod': ds_common['frequency_Sod'].where(common_words_3, drop=True),\n",
    "                            'frequency_Sam': frequency_Sam,\n",
    "                            'splithalf_Sam': splithalf_Sam,\n",
    "                            'frequency_proportion_Sam': frequency_proportion_Sam,\n",
    "                            'frequency_proportion_Lara': ds_common['frequency_proportion_Lara'].where(common_words_3, drop=True),\n",
    "                            'frequency_proportion_Sod': ds_common['frequency_proportion_Sod'].where(common_words_3, drop=True)})"
   ]
  },
  {
   "cell_type": "code",
   "execution_count": 18,
   "id": "b06d95d8-ed29-4966-86b3-3a732662edbb",
   "metadata": {},
   "outputs": [],
   "source": [
    "#Find the difference in frequency proportions between the three datasets for each word\n",
    "ds_common_3['diffLara_Sod'] = abs(ds_common_3['frequency_proportion_Lara'] - ds_common_3['frequency_proportion_Sod'])\n",
    "ds_common_3['diffLara_Sam'] = abs(ds_common_3['frequency_proportion_Lara'] - ds_common_3['frequency_proportion_Sam'])\n",
    "ds_common_3['diffSod_Sam'] = abs(ds_common_3['frequency_proportion_Sod'] - ds_common_3['frequency_proportion_Sam'])"
   ]
  },
  {
   "cell_type": "code",
   "execution_count": 25,
   "id": "75c9768f-c462-4eae-8a8f-4d8ef4724b86",
   "metadata": {},
   "outputs": [],
   "source": [
    "# Calculate the mean of 'diffLara_Sod', 'diffLara_Sam', and 'diffSod_Sam' columns and add it as a new column 'means'\n",
    "df = ds_common_3.to_dataframe()\n",
    "df['means'] = df[['diffLara_Sod', 'diffLara_Sam', 'diffSod_Sam']].mean(axis=1)\n",
    "df_sorted = df.sort_values(by='means', ascending=True)\n",
    "df_sorted"
   ]
  }
 ],
 "metadata": {
  "kernelspec": {
   "display_name": "Python 3 (ipykernel)",
   "language": "python",
   "name": "python3"
  },
  "language_info": {
   "codemirror_mode": {
    "name": "ipython",
    "version": 3
   },
   "file_extension": ".py",
   "mimetype": "text/x-python",
   "name": "python",
   "nbconvert_exporter": "python",
   "pygments_lexer": "ipython3",
   "version": "3.10.8"
  }
 },
 "nbformat": 4,
 "nbformat_minor": 5
}
